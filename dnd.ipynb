{
 "cells": [
  {
   "cell_type": "code",
   "execution_count": null,
   "metadata": {},
   "outputs": [],
   "source": [
    "clear all\n",
    "set more off\n",
    "macro drop _all\n",
    "set seed 8675309\n",
    "set linesize 100\n",
    "set scheme dubois, permanently"
   ]
  },
  {
   "cell_type": "code",
   "execution_count": null,
   "metadata": {},
   "outputs": [],
   "source": [
    "%set graph_format svg --permanently"
   ]
  },
  {
   "cell_type": "code",
   "execution_count": null,
   "metadata": {},
   "outputs": [],
   "source": [
    "import excel using \"https://github.com/jcolond/dnd/raw/master/dnd.xlsx\", sheet(\"AGIEFC\") firstrow clear\n",
    "label define AGI_lab 1 \"$100-30,000\" 2 \"$30,001-48,000\" 3 \"$48,001-75,000\" 4 \"$75,001-110,000\" 5 \"$110,001-497,686\" \n",
    "label values AGI AGI_lab\n",
    "label define EFC_lab 1 \"$0\" 2 \"$1-2,599\" 3 \"$2,600-7,199\" 4 \"$7,200-15,599\" 5 \"$15,600 or more\" \n",
    "label values EFC EFC_lab\n",
    "list AGI EFC"
   ]
  },
  {
   "cell_type": "code",
   "execution_count": null,
   "metadata": {},
   "outputs": [],
   "source": [
    "quietly set obs `=20'\n",
    "quietly gen race=4\n",
    "quietly replace race=3 if _n<16\n",
    "quietly replace race=1 if _n<11\n",
    "quietly replace race=2 if _n<6\n",
    "label define race 1 \"Black\" 2 \"white\" 3 \"Latinx\" 4 \"Asian\"\n",
    "label values race race\n",
    "quietly gen efc=1\n",
    "quietly replace efc=2 if _n==2 | _n==7 | _n==12 | _n==17\n",
    "quietly replace efc=3 if _n==3 | _n==8 | _n==13 | _n==18\n",
    "quietly replace efc=4 if _n==4 | _n==9 | _n==14 | _n==19\n",
    "quietly replace efc=5 if _n==5 | _n==10 | _n==15 | _n==20\n",
    "quietly label define efc 1 \"$0\" 2 \"$1-2,599\" 3 \"$2,600-7,199\" 4 \"$7,200-15,599\" 5 \"$15,600 +\"\n",
    "quietly label values efc efc\n",
    "quietly gen pcthelp=11.6368 if _n==1\n",
    "quietly replace pcthelp=8.632 if _n==6\n",
    "quietly replace pcthelp=13.0130 if _n==11\n",
    "quietly replace pcthelp=9.3606 if _n==16\n",
    "quietly replace pcthelp=15.2168 if _n==2\n",
    "quietly replace pcthelp=11.3907 if _n==7\n",
    "quietly replace pcthelp=15.0896 if _n==12\n",
    "quietly replace pcthelp=22.6309 if _n==17\n",
    "quietly replace pcthelp=16.0815 if _n==3\n",
    "quietly replace pcthelp=7.6035 if _n==8\n",
    "quietly replace pcthelp=15.4896 if _n==13\n",
    "quietly replace pcthelp=22.4566 if _n==18\n",
    "quietly replace pcthelp=21.5403 if _n==4\n",
    "quietly replace pcthelp=9.5468 if _n==9\n",
    "quietly replace pcthelp=18.0492 if _n==14\n",
    "quietly replace pcthelp=. if _n==19\n",
    "quietly replace pcthelp=25.6239 if _n==5\n",
    "quietly replace pcthelp=30.1301 if _n==10\n",
    "quietly replace pcthelp=16.1942 if _n==15\n",
    "quietly replace pcthelp=. if _n==20\n",
    "list"
   ]
  },
  {
   "cell_type": "markdown",
   "metadata": {},
   "source": [
    "MARKDOWN\n"
   ]
  },
  {
   "cell_type": "code",
   "execution_count": null,
   "metadata": {},
   "outputs": [],
   "source": [
    "graph hbar Debt_ratio_AGI, over(AGI, gap(30)) ytitle(\"\") asyvars showyvars xsize(10) ysize(5)  by(Race_Ethnicity, legend(off) title(\"Debt to principle ratio over adjusted gross income\", span position(11)) note(\"\", size(small) position(2)))\n",
    "graph hbar Debt_ratio_EFC, over(EFC, gap(30)) ytitle(\"\") asyvars showyvars xsize(10) ysize(5)  by(Race_Ethnicity, legend(off) title(\"Debt to principle ratio over EFC\", span position(11)) note(\"\", size(small) position(2)))\n",
    "graph hbar pcthelp, over(efc, gap(30)) ytitle(\"\") asyvars showyvars scheme(dubois) xsize(10) ysize(5) by(race, legend(off) title(\"% receiving help repaying debt by Expected Family Contribution\", span position(11)) note(\" \" \"This is a note about our cool student debt graphs blah blah blah blah blah\"\"blah blah blah blah blah blah blah blah blah blah\"\"blah blah blah blah blah blah blah blah blah blah\"\"blah blah blah blah blah blah blah blah blah blah\"\"blah blah blah blah blah blah blah blah blah blah\"\"say some things about your dubois style elements.\", size(small) position(2)))"
   ]
  },
  {
   "cell_type": "markdown",
   "metadata": {},
   "source": [
    "MARKDOWN"
   ]
  },
  {
   "cell_type": "code",
   "execution_count": null,
   "metadata": {},
   "outputs": [],
   "source": [
    "clear\n"
   ]
  },
  {
   "cell_type": "code",
   "execution_count": null,
   "metadata": {},
   "outputs": [],
   "source": []
  },
  {
   "cell_type": "code",
   "execution_count": null,
   "metadata": {},
   "outputs": [],
   "source": []
  },
  {
   "cell_type": "markdown",
   "metadata": {},
   "source": [
    "MARKDOWN"
   ]
  },
  {
   "cell_type": "code",
   "execution_count": null,
   "metadata": {},
   "outputs": [],
   "source": []
  },
  {
   "cell_type": "code",
   "execution_count": null,
   "metadata": {},
   "outputs": [],
   "source": []
  },
  {
   "cell_type": "code",
   "execution_count": null,
   "metadata": {},
   "outputs": [],
   "source": []
  },
  {
   "cell_type": "code",
   "execution_count": null,
   "metadata": {},
   "outputs": [],
   "source": []
  }
 ],
 "metadata": {
  "kernelspec": {
   "display_name": "Stata",
   "language": "stata",
   "name": "stata"
  },
  "language_info": {
   "codemirror_mode": "stata",
   "file_extension": ".do",
   "mimetype": "text/x-stata",
   "name": "stata",
   "version": "15.1"
  }
 },
 "nbformat": 4,
 "nbformat_minor": 4
}
